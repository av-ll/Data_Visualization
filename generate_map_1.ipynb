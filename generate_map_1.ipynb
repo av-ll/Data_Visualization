{
 "cells": [
  {
   "cell_type": "code",
   "execution_count": 280,
   "id": "0d2956ab",
   "metadata": {},
   "outputs": [],
   "source": [
    "# import libraries\n",
    "import pandas as pd\n",
    "import folium"
   ]
  },
  {
   "cell_type": "code",
   "execution_count": 282,
   "id": "4164a47d",
   "metadata": {},
   "outputs": [],
   "source": [
    "data_map = pd.read_csv('names_changed.csv')"
   ]
  },
  {
   "cell_type": "code",
   "execution_count": 359,
   "id": "81338c02",
   "metadata": {},
   "outputs": [],
   "source": [
    "# creating Map\n",
    "f = folium.Figure(width=1000, height=500)\n",
    "m = folium.Map(location=[20, 0],zoom_start=1,min_zoom=1.6,max_zoom =4 \n",
    "                 ).add_to(f)\n"
   ]
  },
  {
   "cell_type": "code",
   "execution_count": 284,
   "id": "365fd1f8",
   "metadata": {},
   "outputs": [],
   "source": [
    "#Setting up the world countries data URL\n",
    "url = 'https://raw.githubusercontent.com/python-\\\n",
    "visualization/folium/master/examples/data'\n",
    "country_shapes = f'{url}/world-countries.json'"
   ]
  },
  {
   "cell_type": "code",
   "execution_count": 360,
   "id": "16ed8eb2",
   "metadata": {
    "scrolled": true
   },
   "outputs": [
    {
     "data": {
      "text/plain": [
       "<folium.features.Choropleth at 0x7f8363083490>"
      ]
     },
     "execution_count": 360,
     "metadata": {},
     "output_type": "execute_result"
    }
   ],
   "source": [
    "#map specifications\n",
    "folium.Choropleth(\n",
    "    geo_data=country_shapes,\n",
    "    name='Crime Index',\n",
    "    data=data_map,\n",
    "    columns=['Country', 'Crime Index'],\n",
    "    key_on='feature.properties.name',\n",
    "    fill_color='RdYlGn_r', fill_opacity =1,\n",
    "    nan_fill_color='white', legend_name = 'Level of Crime',bins=[10,25,40,55,70,85],line_weight=1.5\n",
    ").add_to(m)"
   ]
  },
  {
   "cell_type": "code",
   "execution_count": 363,
   "id": "dc0ae52c",
   "metadata": {},
   "outputs": [],
   "source": [
    "#save map\n",
    "m.save('crime.html')"
   ]
  }
 ],
 "metadata": {
  "kernelspec": {
   "display_name": "Python 3 (ipykernel)",
   "language": "python",
   "name": "python3"
  },
  "language_info": {
   "codemirror_mode": {
    "name": "ipython",
    "version": 3
   },
   "file_extension": ".py",
   "mimetype": "text/x-python",
   "name": "python",
   "nbconvert_exporter": "python",
   "pygments_lexer": "ipython3",
   "version": "3.9.12"
  }
 },
 "nbformat": 4,
 "nbformat_minor": 5
}
