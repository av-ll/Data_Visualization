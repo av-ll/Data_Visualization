{
 "cells": [
  {
   "cell_type": "code",
   "execution_count": 2,
   "id": "9fc8e0ec",
   "metadata": {},
   "outputs": [],
   "source": [
    "import pandas as pd\n",
    "import numpy as np\n",
    "import statistics\n",
    "import matplotlib.pyplot as plt\n",
    "import seaborn as sns"
   ]
  },
  {
   "cell_type": "code",
   "execution_count": 3,
   "id": "502f8a00",
   "metadata": {},
   "outputs": [],
   "source": [
    "data = pd.read_csv('Countries.csv')"
   ]
  },
  {
   "cell_type": "code",
   "execution_count": 7,
   "id": "dbf52506",
   "metadata": {},
   "outputs": [],
   "source": [
    "means_data = data.mean(numeric_only=True).round(2)"
   ]
  },
  {
   "cell_type": "code",
   "execution_count": 8,
   "id": "f39a968d",
   "metadata": {},
   "outputs": [
    {
     "data": {
      "text/plain": [
       "Crime Index                          45.17\n",
       "2022 Population                53576459.55\n",
       "Area (km²)                       859940.46\n",
       "Density (per km²)                   414.65\n",
       "Growth Rate                           1.01\n",
       "World Population Percentage           0.67\n",
       "Rural % Population                   34.29\n",
       "2019 HDI                              0.77\n",
       "ppi                                  46.85\n",
       "dtype: float64"
      ]
     },
     "execution_count": 8,
     "metadata": {},
     "output_type": "execute_result"
    }
   ],
   "source": [
    "means_data"
   ]
  },
  {
   "cell_type": "code",
   "execution_count": 9,
   "id": "2f9a790d",
   "metadata": {},
   "outputs": [],
   "source": [
    "dangerous_10 = data.loc[:9,:]"
   ]
  },
  {
   "cell_type": "code",
   "execution_count": 10,
   "id": "97c23c3b",
   "metadata": {},
   "outputs": [],
   "source": [
    "safe_10 = data.loc[130:139,:]"
   ]
  },
  {
   "cell_type": "code",
   "execution_count": 11,
   "id": "f6746a10",
   "metadata": {
    "scrolled": true
   },
   "outputs": [],
   "source": [
    "mean_dang = dangerous_10.mean(numeric_only=True).round(2)"
   ]
  },
  {
   "cell_type": "code",
   "execution_count": 12,
   "id": "8d0e0be4",
   "metadata": {},
   "outputs": [],
   "source": [
    "mean_safe = safe_10.mean(numeric_only=True).round(2)"
   ]
  },
  {
   "cell_type": "code",
   "execution_count": 13,
   "id": "3c843f69",
   "metadata": {},
   "outputs": [],
   "source": [
    "dataset_10 = pd.concat(objs=[dangerous_10,safe_10],ignore_index=False)\n",
    "dataset_10 = dataset_10.drop(['Continent','2022 Population','Area (km²)','World Population Percentage'],axis=1)"
   ]
  },
  {
   "cell_type": "code",
   "execution_count": 170,
   "id": "ef6d8aa4",
   "metadata": {},
   "outputs": [
    {
     "data": {
      "text/plain": [
       "Text(0.5, 0.525, 'Metrics in the 10 Most Dangerous\\nand Safest Countries')"
      ]
     },
     "execution_count": 170,
     "metadata": {},
     "output_type": "execute_result"
    },
    {
     "data": {
      "text/plain": [
       "<Figure size 9360x2880 with 0 Axes>"
      ]
     },
     "metadata": {},
     "output_type": "display_data"
    }
   ],
   "source": [
    "figure = plt.figure(figsize=(130,40))\n",
    "fig1,fig2 = figure.subfigures(2,1)\n",
    "figure.suptitle('Metrics in the 10 Most Dangerous\\n\\\n",
    "and Safest Countries',fontsize=80,weight='bold',x=0.5,y=0.525)"
   ]
  },
  {
   "cell_type": "code",
   "execution_count": 171,
   "id": "8d0a0285",
   "metadata": {},
   "outputs": [],
   "source": [
    "\n",
    "color_bar = []\n",
    "for a in range(21):\n",
    "    if a < 10 :\n",
    "        color_bar.append('red')\n",
    "    elif a >=11 :\n",
    "        color_bar.append('green')\n",
    "ax1 = fig1.add_subplot(131)\n",
    "ax2 = fig1.add_subplot(132)\n",
    "ax3 = fig1.add_subplot(133)\n",
    "ax4 = fig2.add_subplot(121)\n",
    "ax5 = fig2.add_subplot(122)\n",
    "ax1.grid(axis='y',zorder=0)\n",
    "x = [1,2,3,4,5,6,7,8,9,10,11,12,13,14,15,16,17,18,19,20]\n",
    "ax1.bar(x=[0,1,2,3,4,5,6,7,8,9,11,12,13,14,15,16,17,18,19,20],height=dataset_10['Density (per km²)'],\\\n",
    "       color=color_bar,zorder=2)\n",
    "ax1.set_xticks(ticks=[0,1,2,3,4,5,6,7,8,9,11,12,13,14,15,16,17,18,19,20],labels=['venezuela','papua new \\n guinea','afghanistan','south\\nafrica','honduras',\\\n",
    " 'trinidad\\nand tobago','guyana','jamaica','el\\nsalvador','syria','slovenia','japan',\\\n",
    " 'switzerland','armenia','hong kong','oman','isle\\nof man','taiwan','united\\narab emirates',\\\n",
    " 'qatar'])\n",
    "ax1.set_yticks([a for a in range(0,1000,100)])\n",
    "ymax = 1000\n",
    "ax1.set_ylim(ymax=ymax)\n",
    "ax1.axhline(means_data['Density (per km²)'],linestyle='--',label='World mean',color='black')\n",
    "ax1.legend(fontsize='xx-large')\n",
    "ax1.set_title('Density per km²',fontsize=50,color='black')\n",
    "\n",
    "ax2.grid(axis='y',zorder=0)\n",
    "x = [1,2,3,4,5,6,7,8,9,10,11,12,13,14,15,16,17,18,19,20]\n",
    "ax2.bar(x=[0,1,2,3,4,5,6,7,8,9,11,12,13,14,15,16,17,18,19,20],height=dataset_10['Growth Rate'],\\\n",
    "       color=color_bar,zorder=2)\n",
    "ax2.set_ylim(ymax=1.1,ymin=0.9)\n",
    "ax2.set_xticks(ticks=[0,1,2,3,4,5,6,7,8,9,11,12,13,14,15,16,17,18,19,20],labels=['venezuela','papua new \\n guinea','afghanistan','south\\nafrica','honduras',\\\n",
    " 'trinidad\\nand tobago','guyana','jamaica','el\\nsalvador','syria','slovenia','japan',\\\n",
    " 'switzerland','armenia','hong kong','oman','isle\\nof man','taiwan','united\\narab emirates',\\\n",
    " 'qatar'])\n",
    "ax2.axhline(means_data['Growth Rate'],linestyle='--',label='World mean',color='black')\n",
    "ax2.legend(fontsize='xx-large')\n",
    "ax2.set_title('Population Growth Rate',fontsize=50,color='black')\n",
    "\n",
    "ax3.grid(axis='y',zorder=0)\n",
    "x = [1,2,3,4,5,6,7,8,9,10,11,12,13,14,15,16,17,18,19,20]\n",
    "ax3.bar(x=[0,1,2,3,4,5,6,7,8,9,11,12,13,14,15,16,17,18,19,20],height=dataset_10['Rural % Population'],\\\n",
    "       color=color_bar,zorder=2)\n",
    "ax3.set_xticks(ticks=[0,1,2,3,4,5,6,7,8,9,11,12,13,14,15,16,17,18,19,20],labels=['venezuela','papua new \\n guinea','afghanistan','south\\nafrica','honduras',\\\n",
    " 'trinidad\\nand tobago','guyana','jamaica','el\\nsalvador','syria','slovenia','japan',\\\n",
    " 'switzerland','armenia','hong kong','oman','isle\\nof man','taiwan','united\\narab emirates',\\\n",
    " 'qatar'])\n",
    "ax3.axhline(means_data['Rural % Population'],linestyle='--',label='World mean',color='black')\n",
    "ax3.legend(fontsize='xx-large')\n",
    "ax3.set_title('Percentage of Rural Population',fontsize=50,color='black')\n",
    "ax3.set_yticks([a for a in range(0,110,10)])\n",
    "\n",
    "ax4.grid(axis='y',zorder=0)\n",
    "x = [1,2,3,4,5,6,7,8,9,10,11,12,13,14,15,16,17,18,19,20]\n",
    "ax4.bar(x=[0,1,2,3,4,5,6,7,8,9,11,12,13,14,15,16,17,18,19,20],height=dataset_10['2019 HDI'],\\\n",
    "       color=color_bar,zorder=2)\n",
    "ax4.set_xticks(ticks=[0,1,2,3,4,5,6,7,8,9,11,12,13,14,15,16,17,18,19,20],labels=['venezuela','papua new \\n guinea','afghanistan','south africa','honduras',\\\n",
    " 'trinidad\\nand tobago','guyana','jamaica','el\\nsalvador','syria','slovenia','japan',\\\n",
    " 'switzerland','armenia','hong kong','oman','isle\\nof man','taiwan','united\\narab emirates',\\\n",
    " 'qatar'])\n",
    "ax4.axhline(means_data['2019 HDI'],linestyle='--',label='World mean',color='black')\n",
    "ax4.legend(fontsize='xx-large')\n",
    "ax4.set_title('Human Development Index',fontsize=50,color='black')\n",
    "ax4.set_ylim(ymax=1,ymin=0.5)\n",
    "ax4.set_yticks([a for a in np.arange(0.5,1,0.05)])\n",
    "\n",
    "ax5.grid(axis='y',zorder=0)\n",
    "x = [1,2,3,4,5,6,7,8,9,10,11,12,13,14,15,16,17,18,19,20]\n",
    "ax5.bar(x=[0,1,2,3,4,5,6,7,8,9,11,12,13,14,15,16,17,18,19,20],height=dataset_10['ppi'],\\\n",
    "       color=color_bar,zorder=2)\n",
    "ax5.set_xticks(ticks=[0,1,2,3,4,5,6,7,8,9,11,12,13,14,15,16,17,18,19,20],labels=['venezuela','papua new \\n guinea','afghanistan','south africa','honduras',\\\n",
    " 'trinidad\\nand tobago','guyana','jamaica','el\\nsalvador','syria','slovenia','japan',\\\n",
    " 'switzerland','armenia','hong kong','oman','isle\\nof man','taiwan','united\\narab emirates',\\\n",
    " 'qatar'])\n",
    "ax5.axhline(means_data['ppi'],linestyle='--',label='World mean',color='black')\n",
    "ax5.legend(fontsize='xx-large')\n",
    "ax5.set_title('Purchasing Power Index',fontsize=50,color='black')\n",
    "ax5.set_yticks([a for a in np.arange(0,120,10)])\n",
    "\n",
    "ax1.tick_params(axis='y', labelsize=20)\n",
    "ax2.tick_params(axis='y', labelsize=20)\n",
    "ax3.tick_params(axis='y', labelsize=20)\n",
    "ax1.tick_params(axis='x',labelsize=15)\n",
    "ax2.tick_params(axis='x',labelsize=15)\n",
    "ax3.tick_params(axis='x',labelsize=15)\n",
    "ax4.tick_params(axis='both', labelsize=20)\n",
    "ax5.tick_params(axis='both', labelsize=20)\n",
    "\n",
    "figure\n",
    "figure.savefig('metrics.png',dpi=400)"
   ]
  },
  {
   "cell_type": "code",
   "execution_count": null,
   "id": "607e495e",
   "metadata": {},
   "outputs": [],
   "source": []
  }
 ],
 "metadata": {
  "kernelspec": {
   "display_name": "Python 3 (ipykernel)",
   "language": "python",
   "name": "python3"
  },
  "language_info": {
   "codemirror_mode": {
    "name": "ipython",
    "version": 3
   },
   "file_extension": ".py",
   "mimetype": "text/x-python",
   "name": "python",
   "nbconvert_exporter": "python",
   "pygments_lexer": "ipython3",
   "version": "3.9.12"
  }
 },
 "nbformat": 4,
 "nbformat_minor": 5
}
